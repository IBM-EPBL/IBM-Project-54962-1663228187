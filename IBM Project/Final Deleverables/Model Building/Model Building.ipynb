{
 "cells": [
  {
   "cell_type": "markdown",
   "id": "90d7df98",
   "metadata": {
    "id": "igvLvta4ReEj"
   },
   "source": [
    "## Model Building"
   ]
  },
  {
   "cell_type": "markdown",
   "id": "d8711083",
   "metadata": {
    "id": "YQnMchSyaGM2"
   },
   "source": [
    "Model building includes the following main tasks\n",
    "- Train and test model algorithms\n",
    "- Evaluation of Model\n",
    "- Save the model\n",
    "- Predicting the output using the model"
   ]
  },
  {
   "cell_type": "markdown",
   "id": "7ad29890",
   "metadata": {
    "id": "m20IVbNTR6ny"
   },
   "source": [
    "### Train and Test Model Algorithms"
   ]
  },
  {
   "cell_type": "code",
   "execution_count": 27,
   "id": "44f118dd",
   "metadata": {
    "id": "1NuKDleDRxUD"
   },
   "outputs": [],
   "source": [
    "from sklearn.linear_model import LinearRegression\n",
    "from sklearn.linear_model import Lasso\n",
    "from sklearn.linear_model import ElasticNet\n",
    "from sklearn.tree import DecisionTreeRegressor\n",
    "from sklearn.neighbors import KNeighborsRegressor\n",
    "from sklearn.ensemble import GradientBoostingRegressor\n",
    "from xgboost import XGBRegressor"
   ]
  },
  {
   "cell_type": "markdown",
   "id": "c97d5c16",
   "metadata": {
    "id": "BwQDO2HlTPgu"
   },
   "source": [
    "### Model evaluation"
   ]
  },
  {
   "cell_type": "markdown",
   "id": "4abeaddf",
   "metadata": {
    "id": "gvF6u5ZXXE6M"
   },
   "source": [
    "We’re going to use x_train and y_train obtained above in train_test_split section to train our regression model. We’re using the fit method and passing the parameters as shown below.\n",
    "\n",
    "Finally, we need to check to see how well our model is performing on the test data.\n",
    "\n",
    "**Regression Evaluation Metrics:**\n",
    "RMSE(Root Mean Square Error)\n",
    "\n",
    "RMSE is the square root of the averaged squared difference between the target value and the value predicted by the model. It is preferred more in some cases because the errors are first squared before averaging which poses a high penalty on large errors. This implies that RMSE is useful when large errors are undesired."
   ]
  },
  {
   "cell_type": "code",
   "execution_count": 28,
   "id": "977b90fd",
   "metadata": {
    "colab": {
     "base_uri": "https://localhost:8080/"
    },
    "id": "8plD2B-BTQcj",
    "outputId": "a3e305a4-9113-47c4-bc4f-8114df3909d7"
   },
   "outputs": [
    {
     "name": "stdout",
     "output_type": "stream",
     "text": [
      "RMSLE: 69.43115244604952\n"
     ]
    }
   ],
   "source": [
    "XG = XGBRegressor()\n",
    "XG.fit(X_train, y_train)\n",
    "y_pred = XG.predict(X_val)\n",
    "y_pred[y_pred<0] = 0\n",
    "from sklearn import metrics\n",
    "print('RMSLE:', 100*np.sqrt(metrics.mean_squared_log_error(y_val, y_pred)))"
   ]
  },
  {
   "cell_type": "code",
   "execution_count": 29,
   "id": "f620f885",
   "metadata": {
    "colab": {
     "base_uri": "https://localhost:8080/"
    },
    "id": "V451kOszUKX3",
    "outputId": "0c0880b5-880b-46ab-a2ba-727eaf99c696"
   },
   "outputs": [
    {
     "name": "stdout",
     "output_type": "stream",
     "text": [
      "RMSLE: 129.47899449503194\n"
     ]
    }
   ],
   "source": [
    "LR = LinearRegression()\n",
    "LR.fit(X_train, y_train)\n",
    "y_pred = LR.predict(X_val)\n",
    "y_pred[y_pred<0] = 0\n",
    "from sklearn import metrics\n",
    "print('RMSLE:', 100*np.sqrt(metrics.mean_squared_log_error(y_val, y_pred)))"
   ]
  },
  {
   "cell_type": "code",
   "execution_count": 30,
   "id": "ef5e8aa5",
   "metadata": {
    "colab": {
     "base_uri": "https://localhost:8080/"
    },
    "id": "OEURJGH7Un7d",
    "outputId": "2a70c3e2-ebb4-42ee-b888-343944f68a68"
   },
   "outputs": [
    {
     "name": "stdout",
     "output_type": "stream",
     "text": [
      "RMSLE: 129.20590237310194\n"
     ]
    }
   ],
   "source": [
    "L = Lasso()\n",
    "L.fit(X_train, y_train)\n",
    "y_pred = L.predict(X_val)\n",
    "y_pred[y_pred<0] = 0\n",
    "from sklearn import metrics\n",
    "print('RMSLE:', 100*np.sqrt(metrics.mean_squared_log_error(y_val, y_pred)))"
   ]
  },
  {
   "cell_type": "code",
   "execution_count": 31,
   "id": "f8be9a52",
   "metadata": {
    "colab": {
     "base_uri": "https://localhost:8080/"
    },
    "id": "5RF4icrmVB7Q",
    "outputId": "f0d5eee4-fc02-4f00-de7c-92e85ebfb4f9"
   },
   "outputs": [
    {
     "name": "stdout",
     "output_type": "stream",
     "text": [
      "RMSLE: 131.25841474009502\n"
     ]
    }
   ],
   "source": [
    "EN = ElasticNet()\n",
    "EN.fit(X_train, y_train)\n",
    "y_pred = EN.predict(X_val)\n",
    "y_pred[y_pred<0] = 0\n",
    "from sklearn import metrics\n",
    "print('RMSLE:', 100*np.sqrt(metrics.mean_squared_log_error(y_val, y_pred)))"
   ]
  },
  {
   "cell_type": "code",
   "execution_count": 32,
   "id": "a9f5ec4b",
   "metadata": {
    "colab": {
     "base_uri": "https://localhost:8080/"
    },
    "id": "EIFCe9KfVTS_",
    "outputId": "c5cedad6-51f5-472c-d852-47b2980d2277"
   },
   "outputs": [
    {
     "name": "stdout",
     "output_type": "stream",
     "text": [
      "RMSLE: 62.6445830592777\n"
     ]
    }
   ],
   "source": [
    "DT = DecisionTreeRegressor()\n",
    "DT.fit(X_train, y_train)\n",
    "y_pred = DT.predict(X_val)\n",
    "y_pred[y_pred<0] = 0\n",
    "from sklearn import metrics\n",
    "print('RMSLE:', 100*np.sqrt(metrics.mean_squared_log_error(y_val, y_pred)))"
   ]
  },
  {
   "cell_type": "code",
   "execution_count": 33,
   "id": "a540288f",
   "metadata": {
    "colab": {
     "base_uri": "https://localhost:8080/"
    },
    "id": "A5qL0GXLVfgL",
    "outputId": "0ade87ad-6f26-48ca-f259-da5a245b00ad"
   },
   "outputs": [
    {
     "name": "stdout",
     "output_type": "stream",
     "text": [
      "RMSLE: 67.31466422917168\n"
     ]
    }
   ],
   "source": [
    "KNN = KNeighborsRegressor()\n",
    "KNN.fit(X_train, y_train)\n",
    "y_pred = KNN.predict(X_val)\n",
    "y_pred[y_pred<0] = 0\n",
    "from sklearn import metrics\n",
    "print('RMSLE:', 100*np.sqrt(metrics.mean_squared_log_error(y_val, y_pred)))"
   ]
  },
  {
   "cell_type": "code",
   "execution_count": 34,
   "id": "4ea6b4f1",
   "metadata": {
    "colab": {
     "base_uri": "https://localhost:8080/"
    },
    "id": "vhY_FdD4VmgU",
    "outputId": "31417b1b-273e-4504-9086-ebb8ba443a40"
   },
   "outputs": [
    {
     "name": "stdout",
     "output_type": "stream",
     "text": [
      "RMSLE: 98.97455800242957\n"
     ]
    }
   ],
   "source": [
    "GB = GradientBoostingRegressor()\n",
    "GB.fit(X_train, y_train)\n",
    "y_pred = GB.predict(X_val)\n",
    "y_pred[y_pred<0] = 0\n",
    "from sklearn import metrics\n",
    "print('RMSLE:', 100*np.sqrt(metrics.mean_squared_log_error(y_val, y_pred)))"
   ]
  },
  {
   "cell_type": "markdown",
   "id": "d5d969a1",
   "metadata": {
    "id": "l63mXcV3V6XI"
   },
   "source": [
    "###  Save the Model"
   ]
  },
  {
   "cell_type": "code",
   "execution_count": 35,
   "id": "4969f418",
   "metadata": {
    "id": "WKWq-ZLZV7W4"
   },
   "outputs": [],
   "source": [
    "import pickle\n",
    "pickle.dump(DT, open('fdemand.pkl','wb'))"
   ]
  },
  {
   "cell_type": "markdown",
   "id": "9da40d65",
   "metadata": {
    "id": "Ug2fV4ouWPkC"
   },
   "source": [
    "### Predicting the output using the model"
   ]
  },
  {
   "cell_type": "markdown",
   "id": "2a51556f",
   "metadata": {
    "id": "4qOxgGtffnXD"
   },
   "source": [
    "Here, we are creating X_test which we are using to test the model to predict the number of orders by giving input to the model build."
   ]
  },
  {
   "cell_type": "code",
   "execution_count": 36,
   "id": "dbccc9fb",
   "metadata": {
    "id": "3OrDUQEdWQkd"
   },
   "outputs": [],
   "source": [
    "testfinal = pd.merge(test, meal_info, on=\"meal_id\", how=\"outer\")\n",
    "testfinal = pd.merge(testfinal, center_info, on=\"center_id\", how=\"outer\")\n",
    "testfinal = testfinal.drop(['meal_id', 'center_id'], axis=1)\n",
    "\n",
    "tcols = testfinal.columns.tolist()\n",
    "tcols = tcols[:2] + tcols[8:] + tcols[6:8] + tcols[2:6]\n",
    "testfinal = testfinal[tcols]\n",
    "\n",
    "lb1 = LabelEncoder()\n",
    "testfinal['center_type'] = lb1.fit_transform(testfinal['center_type'])\n",
    "testfinal['category'] = lb1.fit_transform(testfinal['category'])\n",
    "testfinal['cuisine'] = lb1.fit_transform(testfinal['cuisine'])\n",
    "\n",
    "X_test = testfinal[features].values"
   ]
  },
  {
   "cell_type": "code",
   "execution_count": 37,
   "id": "e2a0a53a",
   "metadata": {
    "colab": {
     "base_uri": "https://localhost:8080/"
    },
    "id": "M_G2SmHFypGY",
    "outputId": "de2c1dc9-647b-4541-cc32-c63806ff9ffc"
   },
   "outputs": [
    {
     "data": {
      "text/plain": [
       "id                         int64\n",
       "week                       int64\n",
       "city_code                  int64\n",
       "region_code                int64\n",
       "center_type                int32\n",
       "op_area                  float64\n",
       "category                   int32\n",
       "cuisine                    int32\n",
       "checkout_price           float64\n",
       "base_price               float64\n",
       "emailer_for_promotion      int64\n",
       "homepage_featured          int64\n",
       "dtype: object"
      ]
     },
     "execution_count": 37,
     "metadata": {},
     "output_type": "execute_result"
    }
   ],
   "source": [
    "testfinal.dtypes"
   ]
  },
  {
   "cell_type": "code",
   "execution_count": 38,
   "id": "882c2645",
   "metadata": {
    "id": "2qA18LSHfuLn"
   },
   "outputs": [],
   "source": [
    "pred = DT.predict(X_test)\n",
    "pred[pred<0] = 0\n",
    "submit = pd.DataFrame({\n",
    "    'id' : testfinal['id'],\n",
    "    'num_orders' : pred\n",
    "})"
   ]
  },
  {
   "cell_type": "markdown",
   "id": "0f9d6ff6",
   "metadata": {
    "id": "VTnhlLVBgs8t"
   },
   "source": [
    "Submit the predicted output values(Number of orders) to “submission.csv”"
   ]
  },
  {
   "cell_type": "code",
   "execution_count": 39,
   "id": "87e10934",
   "metadata": {
    "id": "OYv_BAD3gLDN"
   },
   "outputs": [],
   "source": [
    "submit.to_csv(\"submission.csv\", index=False)"
   ]
  },
  {
   "cell_type": "code",
   "execution_count": 40,
   "id": "fd22d664",
   "metadata": {
    "colab": {
     "base_uri": "https://localhost:8080/",
     "height": 295
    },
    "id": "gvkmGFQAhAZw",
    "outputId": "78b63704-3780-4ec7-a11d-6de74bc9c74b"
   },
   "outputs": [
    {
     "data": {
      "text/html": [
       "<div>\n",
       "<style scoped>\n",
       "    .dataframe tbody tr th:only-of-type {\n",
       "        vertical-align: middle;\n",
       "    }\n",
       "\n",
       "    .dataframe tbody tr th {\n",
       "        vertical-align: top;\n",
       "    }\n",
       "\n",
       "    .dataframe thead th {\n",
       "        text-align: right;\n",
       "    }\n",
       "</style>\n",
       "<table border=\"1\" class=\"dataframe\">\n",
       "  <thead>\n",
       "    <tr style=\"text-align: right;\">\n",
       "      <th></th>\n",
       "      <th>id</th>\n",
       "      <th>num_orders</th>\n",
       "    </tr>\n",
       "  </thead>\n",
       "  <tbody>\n",
       "    <tr>\n",
       "      <th>count</th>\n",
       "      <td>3.257300e+04</td>\n",
       "      <td>32573.000000</td>\n",
       "    </tr>\n",
       "    <tr>\n",
       "      <th>mean</th>\n",
       "      <td>1.248476e+06</td>\n",
       "      <td>263.024893</td>\n",
       "    </tr>\n",
       "    <tr>\n",
       "      <th>std</th>\n",
       "      <td>1.441580e+05</td>\n",
       "      <td>367.434414</td>\n",
       "    </tr>\n",
       "    <tr>\n",
       "      <th>min</th>\n",
       "      <td>1.000085e+06</td>\n",
       "      <td>14.666667</td>\n",
       "    </tr>\n",
       "    <tr>\n",
       "      <th>25%</th>\n",
       "      <td>1.123969e+06</td>\n",
       "      <td>64.553812</td>\n",
       "    </tr>\n",
       "    <tr>\n",
       "      <th>50%</th>\n",
       "      <td>1.247296e+06</td>\n",
       "      <td>148.865900</td>\n",
       "    </tr>\n",
       "    <tr>\n",
       "      <th>75%</th>\n",
       "      <td>1.372971e+06</td>\n",
       "      <td>320.638554</td>\n",
       "    </tr>\n",
       "    <tr>\n",
       "      <th>max</th>\n",
       "      <td>1.499996e+06</td>\n",
       "      <td>6311.166667</td>\n",
       "    </tr>\n",
       "  </tbody>\n",
       "</table>\n",
       "</div>"
      ],
      "text/plain": [
       "                 id    num_orders\n",
       "count  3.257300e+04  32573.000000\n",
       "mean   1.248476e+06    263.024893\n",
       "std    1.441580e+05    367.434414\n",
       "min    1.000085e+06     14.666667\n",
       "25%    1.123969e+06     64.553812\n",
       "50%    1.247296e+06    148.865900\n",
       "75%    1.372971e+06    320.638554\n",
       "max    1.499996e+06   6311.166667"
      ]
     },
     "execution_count": 40,
     "metadata": {},
     "output_type": "execute_result"
    }
   ],
   "source": [
    "submit.describe()"
   ]
  },
  {
   "cell_type": "code",
   "execution_count": 40,
   "id": "3324ce90",
   "metadata": {
    "id": "ZT-JPlzYhDZe"
   },
   "outputs": [],
   "source": []
  },
  {
   "cell_type": "code",
   "execution_count": null,
   "id": "c0d3518e",
   "metadata": {},
   "outputs": [],
   "source": []
  }
 ],
 "metadata": {
  "kernelspec": {
   "display_name": "Python 3 (ipykernel)",
   "language": "python",
   "name": "python3"
  },
  "language_info": {
   "codemirror_mode": {
    "name": "ipython",
    "version": 3
   },
   "file_extension": ".py",
   "mimetype": "text/x-python",
   "name": "python",
   "nbconvert_exporter": "python",
   "pygments_lexer": "ipython3",
   "version": "3.9.13"
  }
 },
 "nbformat": 4,
 "nbformat_minor": 5
}
